{
 "cells": [
  {
   "cell_type": "code",
   "execution_count": null,
   "id": "fe0e7db1-ee80-4718-a5ab-7b1680736682",
   "metadata": {
    "tags": []
   },
   "outputs": [],
   "source": [
    "import json\n",
    "import pandas as pd\n",
    "import os\n",
    "import numpy as np\n",
    "from scipy.stats import pearsonr, kendalltau\n",
    "from sklearn.preprocessing import MinMaxScaler\n",
    "from sklearn.metrics import f1_score\n",
    "from sklearn.metrics import roc_auc_score"
   ]
  },
  {
   "cell_type": "code",
   "execution_count": null,
   "id": "6419a261-5ce3-480c-a101-d9f23f207ee1",
   "metadata": {
    "tags": []
   },
   "outputs": [],
   "source": [
    "def get_eval_metrics(preds, labels):\n",
    "    results = {}\n",
    "    scaler = MinMaxScaler()\n",
    "    scaled_labs = scaler.fit_transform(np.array(preds)[..., np.newaxis]).reshape(-1,)\n",
    "    results['pearson'] = round(pearsonr(preds, labels)[0], 5)\n",
    "    results['kendalltau'] = round(kendalltau(preds, labels)[0], 5)\n",
    "    results['f1_macro'] = max([f1_score(labels, [int(x>y/100) for x in scaled_labs], average='macro') for y in range(0, 100, 1)])\n",
    "    results['f1_binary'] = max([f1_score(labels, [int(x>y/100) for x in scaled_labs], average='binary') for y in range(0, 100, 1)])\n",
    "    results['roc_auc'] = roc_auc_score(labels, preds)\n",
    "    return results"
   ]
  },
  {
   "cell_type": "code",
   "execution_count": null,
   "id": "dc1f202b",
   "metadata": {},
   "outputs": [],
   "source": [
    "files = [x for x in os.listdir('results/')]\n",
    "for file in files:\n",
    "    print(file)\n",
    "    with open(f'results/{file}', 'r') as f:\n",
    "        data = json.load(f)\n",
    "    \n",
    "    try:\n",
    "        print(get_eval_metrics(data[0], data[1]))\n",
    "        print(f'time: {data[-1]}')\n",
    "        print('###############################\\n\\n')\n",
    "    except:\n",
    "        continue"
   ]
  }
 ],
 "metadata": {
  "kernelspec": {
   "display_name": "Python 3 (ipykernel)",
   "language": "python",
   "name": "python3"
  },
  "language_info": {
   "codemirror_mode": {
    "name": "ipython",
    "version": 3
   },
   "file_extension": ".py",
   "mimetype": "text/x-python",
   "name": "python",
   "nbconvert_exporter": "python",
   "pygments_lexer": "ipython3",
   "version": "3.8.13"
  }
 },
 "nbformat": 4,
 "nbformat_minor": 5
}
