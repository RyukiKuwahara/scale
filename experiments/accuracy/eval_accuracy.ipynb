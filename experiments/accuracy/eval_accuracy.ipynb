{
 "cells": [
  {
   "cell_type": "code",
   "execution_count": 1,
   "id": "fe0e7db1-ee80-4718-a5ab-7b1680736682",
   "metadata": {
    "tags": []
   },
   "outputs": [],
   "source": [
    "import json\n",
    "import pandas as pd\n",
    "import os\n",
    "import numpy as np\n",
    "from scipy.stats import pearsonr, kendalltau\n",
    "from sklearn.preprocessing import MinMaxScaler\n",
    "from sklearn.metrics import f1_score\n",
    "from sklearn.metrics import roc_auc_score"
   ]
  },
  {
   "cell_type": "code",
   "execution_count": 3,
   "id": "6419a261-5ce3-480c-a101-d9f23f207ee1",
   "metadata": {
    "tags": []
   },
   "outputs": [],
   "source": [
    "def get_eval_metrics(preds, labels):\n",
    "    results = {}\n",
    "    scaler = MinMaxScaler()\n",
    "    scaled_labs = scaler.fit_transform(np.array(preds)[..., np.newaxis]).reshape(-1,)\n",
    "    results['pearson'] = round(pearsonr(preds, labels)[0], 5)\n",
    "    results['kendalltau'] = round(kendalltau(preds, labels)[0], 5)\n",
    "    results['f1_macro'] = max([f1_score(labels, [int(x>y/100) for x in scaled_labs], average='macro') for y in range(0, 100, 1)])\n",
    "    results['f1_binary'] = max([f1_score(labels, [int(x>y/100) for x in scaled_labs], average='binary') for y in range(0, 100, 1)])\n",
    "    results['roc_auc'] = roc_auc_score(labels, preds)\n",
    "    return results"
   ]
  },
  {
   "cell_type": "code",
   "execution_count": 5,
   "id": "dc1f202b",
   "metadata": {},
   "outputs": [
    {
     "name": "stdout",
     "output_type": "stream",
     "text": [
      "sentli_large_results.json\n",
      "{'pearson': -0.00503, 'kendalltau': -0.09583, 'f1_macro': 0.42670401493930904, 'f1_binary': 0.8534080298786181, 'roc_auc': 0.4222371514947934}\n",
      "time: 12688.399463176727\n",
      "###############################\n",
      "\n",
      "\n",
      "flan_t5_xxl_results.json\n",
      "{'pearson': 0.42646, 'kendalltau': 0.35351, 'f1_macro': 0.7177894911839777, 'f1_binary': 0.8617424242424243, 'roc_auc': 0.7868659724554922}\n",
      "time: 4441.220121383667\n",
      "###############################\n",
      "\n",
      "\n",
      "flan_t5_large_results.json\n",
      "{'pearson': 0.35256, 'kendalltau': 0.29159, 'f1_macro': 0.6691810344827587, 'f1_binary': 0.8566073102155576, 'roc_auc': 0.7366196394580674}\n",
      "time: 884.8548352718353\n",
      "###############################\n",
      "\n",
      "\n",
      "rouge_results.json\n",
      "bert_score_p_results.json\n",
      "{'pearson': 0.12265, 'kendalltau': 0.08217, 'f1_macro': 0.568526945927766, 'f1_binary': 0.8571428571428572, 'roc_auc': 0.5666778636210951}\n",
      "time: 4.222294569015503\n",
      "###############################\n",
      "\n",
      "\n",
      "flan_t5_base_results.json\n",
      "{'pearson': 0.26936, 'kendalltau': 0.22876, 'f1_macro': 0.6222003445729756, 'f1_binary': 0.8579492003762935, 'roc_auc': 0.6856315082297615}\n",
      "time: 410.70660948753357\n",
      "###############################\n",
      "\n",
      "\n",
      "flan_t5_small_results.json\n",
      "{'pearson': 0.10274, 'kendalltau': 0.06061, 'f1_macro': 0.5389636882904937, 'f1_binary': 0.8498727735368956, 'roc_auc': 0.5489532019704434}\n",
      "time: 134.22479367256165\n",
      "###############################\n",
      "\n",
      "\n",
      "qa_fact_results.json\n",
      "{'pearson': 0.33119, 'kendalltau': 0.29256, 'f1_macro': 0.6756262241006081, 'f1_binary': 0.8505050505050503, 'roc_auc': 0.7352969992162133}\n",
      "time: 12132.03852057457\n",
      "###############################\n",
      "\n",
      "\n",
      "bert_score_f_results.json\n",
      "{'pearson': 0.12997, 'kendalltau': 0.07641, 'f1_macro': 0.5641373131835384, 'f1_binary': 0.8566037735849056, 'roc_auc': 0.56200313514724}\n",
      "time: 4.222294569015503\n",
      "###############################\n",
      "\n",
      "\n",
      "summac_conv_results.json\n",
      "{'pearson': 0.02993, 'kendalltau': 0.01117, 'f1_macro': 0.544815205151735, 'f1_binary': 0.8542056074766355, 'roc_auc': 0.5090555368939649}\n",
      "time: 1153.7045652866364\n",
      "###############################\n",
      "\n",
      "\n",
      "rouge_1_f_results.json\n",
      "{'pearson': 0.12067, 'kendalltau': 0.0936, 'f1_macro': 0.58801616866133, 'f1_binary': 0.8498727735368956, 'roc_auc': 0.575584975369458}\n",
      "time: 14.687191486358643\n",
      "###############################\n",
      "\n",
      "\n",
      "flan_t5_xl_results.json\n",
      "{'pearson': 0.4217, 'kendalltau': 0.37029, 'f1_macro': 0.7336043112897332, 'f1_binary': 0.8826583592938733, 'roc_auc': 0.8004842682790281}\n",
      "time: 1680.6877212524414\n",
      "###############################\n",
      "\n",
      "\n",
      "bert_score_r_results.json\n",
      "{'pearson': 0.09947, 'kendalltau': 0.05312, 'f1_macro': 0.5408388355060183, 'f1_binary': 0.8542056074766355, 'roc_auc': 0.5431082745493226}\n",
      "time: 4.222294569015503\n",
      "###############################\n",
      "\n",
      "\n"
     ]
    }
   ],
   "source": [
    "files = [x for x in os.listdir('results/')]\n",
    "for file in files:\n",
    "    print(file)\n",
    "    with open(f'results/{file}', 'r') as f:\n",
    "        data = json.load(f)\n",
    "    \n",
    "    try:\n",
    "        print(get_eval_metrics(data[0], data[1]))\n",
    "        print(f'time: {data[-1]}')\n",
    "        print('###############################\\n\\n')\n",
    "    except:\n",
    "        continue"
   ]
  }
 ],
 "metadata": {
  "kernelspec": {
   "display_name": "Python 3 (ipykernel)",
   "language": "python",
   "name": "python3"
  },
  "language_info": {
   "codemirror_mode": {
    "name": "ipython",
    "version": 3
   },
   "file_extension": ".py",
   "mimetype": "text/x-python",
   "name": "python",
   "nbconvert_exporter": "python",
   "pygments_lexer": "ipython3",
   "version": "3.8.13"
  }
 },
 "nbformat": 4,
 "nbformat_minor": 5
}
